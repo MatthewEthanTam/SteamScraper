{
 "cells": [
  {
   "cell_type": "code",
   "execution_count": 26,
   "metadata": {},
   "outputs": [],
   "source": [
    "import pandas as pd\n",
    "import sqlite3\n",
    "import json\n",
    "import math\n",
    "\n",
    "con = sqlite3.connect('steam.db')\n",
    "BaseGames = pd.read_sql_query(\"SELECT * FROM BaseGames\", con)\n",
    "Bundles = pd.read_sql_query(\"SELECT * FROM Bundles\", con)\n",
    "Games = pd.read_sql_query(\"SELECT * FROM Games\", con)\n"
   ]
  },
  {
   "cell_type": "code",
   "execution_count": 27,
   "metadata": {},
   "outputs": [],
   "source": [
    "mergedGB = pd.merge(Games, BaseGames,how='left', on=['name', 'href'])\n"
   ]
  },
  {
   "cell_type": "code",
   "execution_count": 28,
   "metadata": {},
   "outputs": [],
   "source": [
    "df = pd.merge(mergedGB,Bundles,how='left',on=[\"name\",\"href\"])\n",
    "# finalPlace[finalPlace[\"name\"] == \"Utawarerumono Series Bundle\"] CHECK\n"
   ]
  },
  {
   "cell_type": "code",
   "execution_count": 29,
   "metadata": {},
   "outputs": [
    {
     "name": "stdout",
     "output_type": "stream",
     "text": [
      "0                                [\"Indie\", \"Simulation\"]\n",
      "1                                 [\"Adventure\", \"Indie\"]\n",
      "2                      [\"Action\", \"Adventure\", \"Casual\"]\n",
      "3                                             [\"Casual\"]\n",
      "4                         [\"Action\", \"Adventure\", \"RPG\"]\n",
      "                             ...                        \n",
      "625                           [\"Simulation\", \"Strategy\"]\n",
      "626                           [\"Action\", \"Indie\", \"RPG\"]\n",
      "627                                 [\"Action\", \"Casual\"]\n",
      "628    [\"Action\", \"Adventure\", \"Indie\", \"RPG\", \"Simul...\n",
      "629                                                  NaN\n",
      "Name: genre, Length: 630, dtype: object\n",
      "0                 American Truck Simulator - Montana\n",
      "1                                              Stray\n",
      "2                     Marvel’s Spider-Man Remastered\n",
      "3      Hooked on You: A Dead by Daylight Dating Sim™\n",
      "4                                      SCARLET NEXUS\n",
      "                           ...                      \n",
      "625                                 Cities: Skylines\n",
      "626                         Crypt of the NecroDancer\n",
      "627                                         DNF Duel\n",
      "628                    The Riftbreaker: Metal Terror\n",
      "629                        RIDE 4 - Complete the Set\n",
      "Name: name, Length: 630, dtype: object\n",
      "['Indie', 'Simulation']\n",
      "['Adventure', 'Indie']\n",
      "['Action', 'Adventure', 'Casual']\n",
      "['Casual']\n",
      "['Action', 'Adventure', 'RPG']\n",
      "['Action', 'Adventure', 'RPG']\n"
     ]
    },
    {
     "ename": "TypeError",
     "evalue": "the JSON object must be str, bytes or bytearray, not float",
     "output_type": "error",
     "traceback": [
      "\u001b[0;31m---------------------------------------------------------------------------\u001b[0m",
      "\u001b[0;31mTypeError\u001b[0m                                 Traceback (most recent call last)",
      "\u001b[1;32m/home/22572201/Desktop/22572201-rw746-Project-1/src/SteamScraper/Scraper.ipynb Cell 4\u001b[0m in \u001b[0;36m<cell line: 5>\u001b[0;34m()\u001b[0m\n\u001b[1;32m      <a href='vscode-notebook-cell:/home/22572201/Desktop/22572201-rw746-Project-1/src/SteamScraper/Scraper.ipynb#ch0000003?line=6'>7</a>\u001b[0m     \u001b[39mprint\u001b[39m(json\u001b[39m.\u001b[39mloads(bundleTags[i]))\n\u001b[1;32m      <a href='vscode-notebook-cell:/home/22572201/Desktop/22572201-rw746-Project-1/src/SteamScraper/Scraper.ipynb#ch0000003?line=7'>8</a>\u001b[0m \u001b[39melse\u001b[39;00m :\n\u001b[0;32m----> <a href='vscode-notebook-cell:/home/22572201/Desktop/22572201-rw746-Project-1/src/SteamScraper/Scraper.ipynb#ch0000003?line=8'>9</a>\u001b[0m     \u001b[39mprint\u001b[39m(json\u001b[39m.\u001b[39;49mloads(tags[i]))\n",
      "File \u001b[0;32m/usr/lib/python3.8/json/__init__.py:341\u001b[0m, in \u001b[0;36mloads\u001b[0;34m(s, cls, object_hook, parse_float, parse_int, parse_constant, object_pairs_hook, **kw)\u001b[0m\n\u001b[1;32m    339\u001b[0m \u001b[39melse\u001b[39;00m:\n\u001b[1;32m    340\u001b[0m     \u001b[39mif\u001b[39;00m \u001b[39mnot\u001b[39;00m \u001b[39misinstance\u001b[39m(s, (\u001b[39mbytes\u001b[39m, \u001b[39mbytearray\u001b[39m)):\n\u001b[0;32m--> 341\u001b[0m         \u001b[39mraise\u001b[39;00m \u001b[39mTypeError\u001b[39;00m(\u001b[39mf\u001b[39m\u001b[39m'\u001b[39m\u001b[39mthe JSON object must be str, bytes or bytearray, \u001b[39m\u001b[39m'\u001b[39m\n\u001b[1;32m    342\u001b[0m                         \u001b[39mf\u001b[39m\u001b[39m'\u001b[39m\u001b[39mnot \u001b[39m\u001b[39m{\u001b[39;00ms\u001b[39m.\u001b[39m\u001b[39m__class__\u001b[39m\u001b[39m.\u001b[39m\u001b[39m__name__\u001b[39m\u001b[39m}\u001b[39;00m\u001b[39m'\u001b[39m)\n\u001b[1;32m    343\u001b[0m     s \u001b[39m=\u001b[39m s\u001b[39m.\u001b[39mdecode(detect_encoding(s), \u001b[39m'\u001b[39m\u001b[39msurrogatepass\u001b[39m\u001b[39m'\u001b[39m)\n\u001b[1;32m    345\u001b[0m \u001b[39mif\u001b[39;00m \u001b[39m\"\u001b[39m\u001b[39mencoding\u001b[39m\u001b[39m\"\u001b[39m \u001b[39min\u001b[39;00m kw:\n",
      "\u001b[0;31mTypeError\u001b[0m: the JSON object must be str, bytes or bytearray, not float"
     ]
    }
   ],
   "source": [
    "tags = df[\"genre\"] \n",
    "bundleTags = df[\"genres\"]\n",
    "print(tags)\n",
    "print(df[\"name\"])\n",
    "for i in range(len(tags)):\n",
    "    if not tags[i]:\n",
    "        print(json.loads(bundleTags[i]))\n",
    "    else :\n",
    "        print(json.loads(tags[i]))\n",
    "    "
   ]
  }
 ],
 "metadata": {
  "kernelspec": {
   "display_name": "Python 3.8.10 ('env': venv)",
   "language": "python",
   "name": "python3"
  },
  "language_info": {
   "codemirror_mode": {
    "name": "ipython",
    "version": 3
   },
   "file_extension": ".py",
   "mimetype": "text/x-python",
   "name": "python",
   "nbconvert_exporter": "python",
   "pygments_lexer": "ipython3",
   "version": "3.8.10"
  },
  "orig_nbformat": 4,
  "vscode": {
   "interpreter": {
    "hash": "0beec3f8ff0100ba5055eedf576dcf84cd54a7aa2adb2a3dd10148c25730eb50"
   }
  }
 },
 "nbformat": 4,
 "nbformat_minor": 2
}
